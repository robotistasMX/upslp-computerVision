{
 "cells": [
  {
   "cell_type": "markdown",
   "metadata": {},
   "source": [
    "## Read video"
   ]
  },
  {
   "cell_type": "code",
   "execution_count": 2,
   "metadata": {
    "collapsed": true
   },
   "outputs": [],
   "source": [
    "import numpy as np\n",
    "import cv2\n",
    "\n",
    "cap = cv2.VideoCapture(0)\n",
    "\n",
    "while(True):\n",
    "    ret, frame = cap.read()\n",
    "    cv2.imshow('frame',frame)\n",
    "    if cv2.waitKey(1) & 0xFF == ord('q'):\n",
    "        break\n",
    "\n",
    "cap.release()\n",
    "cv2.destroyAllWindows()"
   ]
  },
  {
   "cell_type": "markdown",
   "metadata": {},
   "source": [
    "## GrayScale"
   ]
  },
  {
   "cell_type": "code",
   "execution_count": 1,
   "metadata": {
    "collapsed": true
   },
   "outputs": [],
   "source": [
    "import numpy as np\n",
    "import cv2\n",
    "\n",
    "cap = cv2.VideoCapture(0)\n",
    "\n",
    "while(True):\n",
    "    ret, frame = cap.read()\n",
    "\n",
    "    gray = cv2.cvtColor(frame, cv2.COLOR_BGR2GRAY)\n",
    "\n",
    "    cv2.imshow('frame',gray)\n",
    "    if cv2.waitKey(1) & 0xFF == ord('q'):\n",
    "        break\n",
    "\n",
    "cap.release()\n",
    "cv2.destroyAllWindows()"
   ]
  },
  {
   "cell_type": "markdown",
   "metadata": {},
   "source": [
    "## Binary image"
   ]
  },
  {
   "cell_type": "code",
   "execution_count": 1,
   "metadata": {
    "collapsed": true
   },
   "outputs": [],
   "source": [
    "import cv2 as cv\n",
    "import numpy as np\n",
    "cap = cv.VideoCapture(0)\n",
    "while(True):\n",
    "    _ , frame = cap.read()\n",
    "    hsv = cv.cvtColor(frame, cv.COLOR_BGR2HSV)\n",
    "    \n",
    "    lower_blue = np.array([110,50,50])\n",
    "    upper_blue = np.array([130,255,255])\n",
    "    \n",
    "    mask = cv.inRange(hsv, lower_blue,upper_blue )\n",
    "    cv.imshow('original', frame)\n",
    "    cv.imshow('azul', mask)\n",
    "    k = cv.waitKey(5) \n",
    "    if k == 27:\n",
    "        break\n",
    "cv.destroyAllWindows()\n",
    "cap.release()"
   ]
  },
  {
   "cell_type": "markdown",
   "metadata": {},
   "source": [
    "## Tracking object"
   ]
  },
  {
   "cell_type": "code",
   "execution_count": null,
   "metadata": {
    "collapsed": true
   },
   "outputs": [],
   "source": [
    "import cv2 as cv\n",
    "import numpy as np\n",
    "cap = cv.VideoCapture(0)\n",
    "while(True):\n",
    "    _ , frame = cap.read()\n",
    "    hsv = cv.cvtColor(frame, cv.COLOR_BGR2HSV)\n",
    "    \n",
    "    lower_blue = np.array([110,50,50])\n",
    "    upper_blue = np.array([130,255,255])\n",
    "    \n",
    "    mask = cv.inRange(hsv, lower_blue,upper_blue )\n",
    "    \n",
    "    filtro1 = cv.erode(mask, cv.getStructuringElement(cv.MORPH_RECT,(3,3)), iterations=1)\n",
    "    filtro2 = cv.erode(filtro1, cv.getStructuringElement(cv.MORPH_RECT,(5,5)), iterations=1)\n",
    "    \n",
    "    objct = cv.moments(filtro2)\n",
    "    if objct['m00'] > 50000:\n",
    "        cx = int(objct['m10']/objct['m00'])\n",
    "        cy = int(objct['m01']/objct['m00'])\n",
    "        cv.circle(frame, (cx,cy), 10, (0,0,255), 4)\n",
    "        \n",
    "    cv.imshow('original', frame)\n",
    "    cv.imshow('azul', filtro2)\n",
    "    k = cv.waitKey(5) \n",
    "    if k == 27:\n",
    "        break\n",
    "cv.destroyAllWindows()\n",
    "cap.release()"
   ]
  },
  {
   "cell_type": "markdown",
   "metadata": {},
   "source": [
    "https://docs.opencv.org/trunk/d8/d23/classcv_1_1Moments.html"
   ]
  },
  {
   "cell_type": "markdown",
   "metadata": {},
   "source": [
    "## HSV calibration"
   ]
  },
  {
   "cell_type": "code",
   "execution_count": null,
   "metadata": {
    "collapsed": false
   },
   "outputs": [],
   "source": [
    "import cv2\n",
    "import numpy as np\n",
    " \n",
    "cap = cv2.VideoCapture(0)\n",
    "\n",
    "def nothing(x):\n",
    "    pass\n",
    "\n",
    "cv2.namedWindow('image')\n",
    "cv2.createTrackbar('Hue Minimo','image',0,255,nothing)\n",
    "cv2.createTrackbar('Hue Maximo','image',0,255,nothing)\n",
    "cv2.createTrackbar('Saturation Minimo','image',0,255,nothing)\n",
    "cv2.createTrackbar('Saturation Maximo','image',0,255,nothing)\n",
    "cv2.createTrackbar('Value Minimo','image',0,255,nothing)\n",
    "cv2.createTrackbar('Value Maximo','image',0,255,nothing)\n",
    " \n",
    "while(1):\n",
    "  _,frame = cap.read() \n",
    "  hsv = cv2.cvtColor(frame, cv2.COLOR_BGR2HSV) \n",
    " \n",
    "  hMin = cv2.getTrackbarPos('Hue Minimo','image')\n",
    "  hMax = cv2.getTrackbarPos('Hue Maximo','image')\n",
    "  sMin = cv2.getTrackbarPos('Saturation Minimo','image')\n",
    "  sMax = cv2.getTrackbarPos('Saturation Maximo','image')\n",
    "  vMin = cv2.getTrackbarPos('Value Minimo','image')\n",
    "  vMax = cv2.getTrackbarPos('Value Maximo','image')\n",
    " \n",
    "  lower=np.array([hMin,sMin,vMin])\n",
    "  upper=np.array([hMax,sMax,vMax])\n",
    " \n",
    "  #Deteccion de colores\n",
    "  mask = cv2.inRange(hsv, lower, upper)\n",
    "\n",
    "  cv2.imshow('camara',frame)\n",
    "  cv2.imshow('mask',mask)\n",
    "  if cv2.waitKey(1) & 0xFF == ord('q'):\n",
    "    break\n",
    "cap.release()\n",
    "cv2.destroyAllWindows()"
   ]
  },
  {
   "cell_type": "markdown",
   "metadata": {},
   "source": [
    "## T-Rex with opencv\n"
   ]
  },
  {
   "cell_type": "code",
   "execution_count": 1,
   "metadata": {
    "collapsed": false
   },
   "outputs": [],
   "source": [
    "\n",
    "import cv2 as cv\n",
    "import numpy as np\n",
    "import keyboard\n",
    "cap = cv.VideoCapture(0)\n",
    "y=300\n",
    "while(True):\n",
    "    _ , frame = cap.read()\n",
    "    hsv = cv.cvtColor(frame, cv.COLOR_BGR2HSV)\n",
    "    \n",
    "    lower_blue = np.array([110,50,50])\n",
    "    upper_blue = np.array([130,255,255])\n",
    "    \n",
    "    mask = cv.inRange(hsv, lower_blue,upper_blue )\n",
    "    \n",
    "    filtro1 = cv.erode(mask, cv.getStructuringElement(cv.MORPH_RECT,(3,3)), iterations=1)\n",
    "    filtro2 = cv.erode(filtro1, cv.getStructuringElement(cv.MORPH_RECT,(5,5)), iterations=1)\n",
    "    \n",
    "    objct = cv.moments(filtro2)\n",
    "    if objct['m00'] > 50000:\n",
    "        cx = int(objct['m10']/objct['m00'])\n",
    "        cy = int(objct['m01']/objct['m00'])\n",
    "        cv.circle(frame, (cx,cy), 10, (0,0,255), 4)\n",
    "        y=cy;\n",
    "        \n",
    "    cv.imshow('original', frame)\n",
    "    cv.imshow('azul', filtro2)\n",
    "    \n",
    "    if y<=250:\n",
    "        keyboard.press_and_release('up')\n",
    "    \n",
    "    k = cv.waitKey(5) \n",
    "    if k == 27:\n",
    "        break\n",
    "        \n",
    "cv.destroyAllWindows()\n",
    "cap.release()"
   ]
  },
  {
   "cell_type": "markdown",
   "metadata": {},
   "source": [
    "### Colores:"
   ]
  },
  {
   "cell_type": "code",
   "execution_count": null,
   "metadata": {
    "collapsed": true
   },
   "outputs": [],
   "source": [
    "lower_blue = np.array([110,50,50])\n",
    "upper_blue = np.array([130,255,255])\n",
    "\n",
    "lower_pink = np.array([160,50,50])\n",
    "upper_pink = np.array([180,255,255])\n",
    "\n",
    "lower_green = np.array([50,100,100])\n",
    "upper_green = np.array([70,255,255])\n",
    "\n",
    "lower_red = np.array([0,100,100])\n",
    "upper_red = np.array([10,255,255])\n",
    "\n",
    "lower_white = np.array([0,0,100])\n",
    "upper_white = np.array([0,0,255])\n",
    "\n",
    "lower_black = np.array([0,0,0])\n",
    "upper_black = np.array([255,255,55])"
   ]
  }
 ],
 "metadata": {
  "kernelspec": {
   "display_name": "Python 3",
   "language": "python",
   "name": "python3"
  },
  "language_info": {
   "codemirror_mode": {
    "name": "ipython",
    "version": 3
   },
   "file_extension": ".py",
   "mimetype": "text/x-python",
   "name": "python",
   "nbconvert_exporter": "python",
   "pygments_lexer": "ipython3",
   "version": "3.4.5"
  }
 },
 "nbformat": 4,
 "nbformat_minor": 2
}
